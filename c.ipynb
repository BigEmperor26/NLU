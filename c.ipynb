{
 "cells": [
  {
   "cell_type": "code",
   "execution_count": null,
   "metadata": {},
   "outputs": [],
   "source": []
  },
  {
   "cell_type": "code",
   "execution_count": 4,
   "metadata": {},
   "outputs": [
    {
     "name": "stderr",
     "output_type": "stream",
     "text": [
      "100%|██████████| 4/4 [00:00<?, ?it/s]\n",
      "100%|██████████| 4/4 [00:00<?, ?it/s]\n",
      "100%|██████████| 4/4 [00:00<00:00, 3957.82it/s]\n",
      "100%|██████████| 4/4 [00:00<00:00, 3675.99it/s]\n",
      "100%|██████████| 4/4 [00:00<00:00, 7151.41it/s]\n",
      "100%|██████████| 4/4 [00:00<?, ?it/s]\n",
      "100%|██████████| 6/6 [00:00<00:00, 77.42it/s]\n"
     ]
    }
   ],
   "source": [
    "from tqdm import tqdm\n",
    "for i in tqdm(range(6)):\n",
    "    for i in tqdm(range(4)):\n",
    "        a = 0"
   ]
  }
 ],
 "metadata": {
  "kernelspec": {
   "display_name": "Python 3.9.7 ('base')",
   "language": "python",
   "name": "python3"
  },
  "language_info": {
   "codemirror_mode": {
    "name": "ipython",
    "version": 3
   },
   "file_extension": ".py",
   "mimetype": "text/x-python",
   "name": "python",
   "nbconvert_exporter": "python",
   "pygments_lexer": "ipython3",
   "version": "3.9.7"
  },
  "orig_nbformat": 4,
  "vscode": {
   "interpreter": {
    "hash": "19d1d53a962d236aa061289c2ac16dc8e6d9648c89fe79f459ae9a3493bc67b4"
   }
  }
 },
 "nbformat": 4,
 "nbformat_minor": 2
}
